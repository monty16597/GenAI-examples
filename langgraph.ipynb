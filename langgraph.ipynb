{
 "cells": [
  {
   "cell_type": "markdown",
   "id": "bccd3c5d",
   "metadata": {},
   "source": [
    "# LangGraph Examples\n",
    "This notebook contains examples related to Langgraph Echosystems"
   ]
  },
  {
   "cell_type": "markdown",
   "id": "4584f5e6",
   "metadata": {},
   "source": [
    "## Setup LLM\n",
    "First things first, we need to setup LLM instance which will be used throughout this project"
   ]
  },
  {
   "cell_type": "code",
   "execution_count": null,
   "id": "f75af61d",
   "metadata": {},
   "outputs": [],
   "source": [
    "from langchain_google_genai import ChatGoogleGenerativeAI\n",
    "import dotenv\n",
    "import os\n",
    "\n",
    "# Import GOOGLE_API_KEY to use gemini model\n",
    "# https://console.cloud.google.com/apis/credentials\n",
    "dotenv.load_dotenv()\n",
    "if \"GOOGLE_API_KEY\" not in os.environ:\n",
    "    raise ValueError(\"Please set the GOOGLE_API_KEY environment variable.\")\n",
    "\n",
    "# Create the LLM instance\n",
    "llm = ChatGoogleGenerativeAI(\n",
    "    model=\"gemini-2.5-flash-lite\",\n",
    "    temperature=0.1,\n",
    "    max_output_tokens=1024,\n",
    ")"
   ]
  },
  {
   "cell_type": "code",
   "execution_count": 2,
   "id": "41b392ef",
   "metadata": {},
   "outputs": [
    {
     "data": {
      "text/plain": [
       "'I am a large language model, trained by Google.'"
      ]
     },
     "execution_count": 2,
     "metadata": {},
     "output_type": "execute_result"
    }
   ],
   "source": [
    "# Invoke\n",
    "\n",
    "llm.invoke(\"Who are you?\").content"
   ]
  },
  {
   "cell_type": "markdown",
   "id": "73d871a6",
   "metadata": {},
   "source": [
    "## LLM Augmentation\n",
    "Adding tool calling and Structured Response ainto LLM in a seamless manner as LLM supports augmentations."
   ]
  },
  {
   "cell_type": "markdown",
   "id": "ff88f183",
   "metadata": {},
   "source": [
    "### Structured Response\n",
    "Adding strucutred response into LLM so final output will be in the expected structure."
   ]
  },
  {
   "cell_type": "code",
   "execution_count": 3,
   "id": "2ffbf6b6",
   "metadata": {},
   "outputs": [
    {
     "data": {
      "text/plain": [
       "Restaurant(name='Spice of India', cuisine='Indian', rating=4.5)"
      ]
     },
     "execution_count": 3,
     "metadata": {},
     "output_type": "execute_result"
    }
   ],
   "source": [
    "from pydantic import BaseModel, Field\n",
    "\n",
    "\n",
    "class Restaurant(BaseModel):\n",
    "    name: str = Field(description=\"The name of the restaurant\")\n",
    "    cuisine: str = Field(description=\"The type of cuisine the restaurant serves\")\n",
    "    rating: float = Field(description=\"The average rating of the restaurant\")\n",
    "\n",
    "llm_with_structured_output = llm.with_structured_output(Restaurant)\n",
    "\n",
    "llm_with_structured_output.invoke(\n",
    "    \"\"\"I got list of indian restaurants as below, give me a restaurant which is above 4 ratings.\n",
    "    restaurants: Spice of India = 4.5, Curry House = 4.0, Tandoori Nights = 3.0\n",
    "    \"\"\"\n",
    ")"
   ]
  },
  {
   "cell_type": "markdown",
   "id": "bdffdbe1",
   "metadata": {},
   "source": [
    "### Adding tools\n",
    "Tools will be added into LLM which can be invoked using LLM. Tools allow LLM to perform operations on external systems."
   ]
  },
  {
   "cell_type": "code",
   "execution_count": 4,
   "id": "8e554efb",
   "metadata": {},
   "outputs": [
    {
     "data": {
      "text/plain": [
       "[{'name': 'get_restaurants',\n",
       "  'args': {'cuisine_type': 'Italian'},\n",
       "  'id': '82ae6d77-fd1c-4ca8-a5c8-40f613eeb6e4',\n",
       "  'type': 'tool_call'}]"
      ]
     },
     "execution_count": 4,
     "metadata": {},
     "output_type": "execute_result"
    }
   ],
   "source": [
    "def get_restaurants(cuisine_type: str) -> dict[str, list[dict[str, str]]]:\n",
    "    \"\"\"\n",
    "    Get a list of restaurants based on the cuisine type.\n",
    "    \"\"\"\n",
    "    # Simulated data for demonstration purposes\n",
    "    restaurants = {\n",
    "        \"Indian\": [\n",
    "            {\n",
    "                \"name\": \"Spice of India\",\n",
    "                \"rating\": 4.5,\n",
    "            },\n",
    "            {\n",
    "                \"name\": \"Curry House\",\n",
    "                \"rating\": 4.0,\n",
    "            },\n",
    "            {\n",
    "                \"name\": \"Tandoori Nights\",\n",
    "                \"rating\": 3.0,\n",
    "            }\n",
    "        ],\n",
    "        \"Italian\": [\n",
    "            {\n",
    "                \"name\": \"Pasta Palace\",\n",
    "                \"rating\": 4.7,\n",
    "            },\n",
    "            {\n",
    "                \"name\": \"Pizza Perfection\",\n",
    "                \"rating\": 3.0,\n",
    "            }\n",
    "        ]\n",
    "    }\n",
    "    return restaurants.get(cuisine_type, [])\n",
    "    \n",
    "llm_with_tools = llm.bind_tools([get_restaurants])\n",
    "llm_with_tools.invoke(\"Suggest a good Italian restaurants.\").tool_calls"
   ]
  },
  {
   "cell_type": "markdown",
   "id": "baec1e9a",
   "metadata": {},
   "source": [
    "We can implement toolcalling mechanism"
   ]
  },
  {
   "cell_type": "code",
   "execution_count": 5,
   "id": "b9d32074",
   "metadata": {},
   "outputs": [
    {
     "name": "stdout",
     "output_type": "stream",
     "text": [
      "Result of tool get_restaurants: [{'name': 'Pasta Palace', 'rating': 4.7}, {'name': 'Pizza Perfection', 'rating': 3.0}]\n"
     ]
    }
   ],
   "source": [
    "for call in llm_with_tools.invoke(\"Suggest a good Italian restaurants.\").tool_calls:\n",
    "    if call.get(\"name\") == \"get_restaurants\":\n",
    "        print(f\"Result of tool {call['name']}: {get_restaurants(call['args']['cuisine_type'])}\")"
   ]
  },
  {
   "cell_type": "markdown",
   "id": "c172bdda",
   "metadata": {},
   "source": [
    "## Workflow\n",
    "Workflow involves a series of steps or nodes, each responsible for a specific task. The output of one node can be used as the input for the next node, allowing for a seamless flow of information and context throughout the process.\n"
   ]
  },
  {
   "cell_type": "code",
   "execution_count": 6,
   "id": "e70d2a25",
   "metadata": {},
   "outputs": [],
   "source": [
    "# This data will be used throughout this project\n",
    "data = {\n",
    "  \"Indian\": [\n",
    "    {\n",
    "      \"name\": \"Spice of India\",\n",
    "      \"rating\": 4.5,\n",
    "      \"menu\": [\n",
    "        { \"item\": \"Butter Chicken\", \"ingredients\": [\"Chicken\", \"Butter\", \"Tomatoes\", \"Cream\", \"Spices\"] },\n",
    "        { \"item\": \"Palak Paneer\", \"ingredients\": [\"Spinach\", \"Paneer\", \"Garlic\", \"Onion\", \"Spices\", \"Cashew\"] },\n",
    "        { \"item\": \"Chicken Biryani\", \"ingredients\": [\"Basmati Rice\", \"Chicken\", \"Yogurt\", \"Mint\", \"Saffron\"] },\n",
    "        { \"item\": \"Chana Masala\", \"ingredients\": [\"Chickpeas\", \"Tomatoes\", \"Onion\", \"Cumin\", \"Coriander\"] },\n",
    "        { \"item\": \"Garlic Naan\", \"ingredients\": [\"Flour\", \"Yeast\", \"Garlic\", \"Butter\", \"Salt\"] }\n",
    "      ]\n",
    "    },\n",
    "    {\n",
    "      \"name\": \"Tandoori Nights\",\n",
    "      \"rating\": 3.0,\n",
    "      \"menu\": [\n",
    "        { \"item\": \"Tandoori Chicken\", \"ingredients\": [\"Chicken\", \"Yogurt\", \"Ginger\", \"Garlic\", \"Spices\"] },\n",
    "        { \"item\": \"Paneer Tikka\", \"ingredients\": [\"Paneer\", \"Bell Peppers\", \"Onion\", \"Yogurt\", \"Spices\"] },\n",
    "        { \"item\": \"Seekh Kebab\", \"ingredients\": [\"Minced Lamb\", \"Onion\", \"Garlic\", \"Mint\", \"Spices\"] },\n",
    "        { \"item\": \"Dal Tadka\", \"ingredients\": [\"Lentils\", \"Onion\", \"Tomato\", \"Garlic\", \"Cumin\"] },\n",
    "        { \"item\": \"Roti\", \"ingredients\": [\"Wheat Flour\", \"Water\", \"Salt\", \"Oil\", \"Butter\"] }\n",
    "      ]\n",
    "    }\n",
    "  ],\n",
    "  \"Italian\": [\n",
    "    {\n",
    "      \"name\": \"Pasta Palace\",\n",
    "      \"rating\": 4.7,\n",
    "      \"menu\": [\n",
    "        { \"dish_name\": \"Spaghetti Carbonara\", \"ingredients\": [\"Spaghetti\", \"Eggs\", \"Parmesan\", \"Pancetta\", \"Black Pepper\"] },\n",
    "        { \"dish_name\": \"Lasagna\", \"ingredients\": [\"Pasta Sheets\", \"Ricotta\", \"Ground Beef\", \"Tomato Sauce\", \"Mozzarella\"] },\n",
    "        { \"dish_name\": \"Penne Arrabbiata\", \"ingredients\": [\"Penne\", \"Tomatoes\", \"Chili\", \"Garlic\", \"Olive Oil\"] },\n",
    "        { \"dish_name\": \"Fettuccine Alfredo\", \"ingredients\": [\"Fettuccine\", \"Butter\", \"Parmesan\", \"Cream\", \"Garlic\"] },\n",
    "        { \"dish_name\": \"Minestrone Soup\", \"ingredients\": [\"Vegetables\", \"Beans\", \"Pasta\", \"Tomatoes\", \"Herbs\"] }\n",
    "      ]\n",
    "    },\n",
    "    {\n",
    "      \"name\": \"Pizza Perfection\",\n",
    "      \"rating\": 3.0,\n",
    "      \"menu\": [\n",
    "        { \"dish_name\": \"Margherita Pizza\", \"ingredients\": [\"Pizza Dough\", \"Tomato Sauce\", \"Mozzarella\", \"Basil\", \"Olive Oil\"] },\n",
    "        { \"dish_name\": \"Pepperoni Pizza\", \"ingredients\": [\"Pizza Dough\", \"Tomato Sauce\", \"Mozzarella\", \"Pepperoni\", \"Oregano\"] },\n",
    "        { \"dish_name\": \"Quattro Formaggi\", \"ingredients\": [\"Pizza Dough\", \"Mozzarella\", \"Gorgonzola\", \"Parmesan\", \"Ricotta\"] },\n",
    "        { \"dish_name\": \"Vegetarian Pizza\", \"ingredients\": [\"Pizza Dough\", \"Tomato Sauce\", \"Mushrooms\", \"Bell Peppers\", \"Olives\"] },\n",
    "        { \"dish_name\": \"Calzone\", \"ingredients\": [\"Pizza Dough\", \"Mozzarella\", \"Ham\", \"Mushrooms\", \"Tomato Sauce\"] }\n",
    "      ]\n",
    "    }\n",
    "  ]\n",
    "}"
   ]
  },
  {
   "cell_type": "markdown",
   "id": "36a2a633",
   "metadata": {},
   "source": [
    "State can store data which can be passed between prompts. This is useful for maintaining context and keeping track of user preferences or previous interactions.\n",
    "In python we use typing_extensions to define the state structure."
   ]
  },
  {
   "cell_type": "code",
   "execution_count": 7,
   "id": "a18e72af",
   "metadata": {},
   "outputs": [],
   "source": [
    "from typing_extensions import TypedDict\n",
    "\n",
    "class State(TypedDict):\n",
    "    cuisine: str\n",
    "    dish_type: str\n",
    "    dish_name: str"
   ]
  },
  {
   "cell_type": "markdown",
   "id": "52b00963",
   "metadata": {},
   "source": [
    "Create a node for selecting a dish"
   ]
  },
  {
   "cell_type": "code",
   "execution_count": 8,
   "id": "d4374c46",
   "metadata": {},
   "outputs": [],
   "source": [
    "def select_dish(state: State) -> str:\n",
    "    msg = llm.invoke(f\"Give me dish name only, no any other text or information. Select a {state['dish_type']} from {state['cuisine']} cuisine. Use this data: {data}\")\n",
    "    return {\"dish_name\": msg.content.strip()}"
   ]
  },
  {
   "cell_type": "markdown",
   "id": "c36802db",
   "metadata": {},
   "source": [
    "Create workflow\n",
    "\n",
    "```mermaid\n",
    "graph LR;\n",
    "    A(Start) ---> B[Select Dish];\n",
    "    B ---> C(End);\n",
    "    D[[STATE]] -.-> A\n",
    "    D -.-> B\n",
    "    D -.-> C\n",
    "```"
   ]
  },
  {
   "cell_type": "code",
   "execution_count": 9,
   "id": "ab0a556f",
   "metadata": {},
   "outputs": [
    {
     "data": {
      "text/plain": [
       "{'cuisine': 'Italian',\n",
       " 'dish_type': 'Pasta',\n",
       " 'dish_name': 'Spaghetti Carbonara'}"
      ]
     },
     "execution_count": 9,
     "metadata": {},
     "output_type": "execute_result"
    }
   ],
   "source": [
    "from langgraph.graph import StateGraph, START, END\n",
    "workflow = StateGraph(State)\n",
    "\n",
    "# Add Nodes\n",
    "workflow.add_node(\"select dish\", select_dish)\n",
    "\n",
    "# Connect Nodes \n",
    "workflow.add_edge(START, \"select dish\")\n",
    "workflow.add_edge(\"select dish\", END)\n",
    "\n",
    "# Compile and create chain\n",
    "chain = workflow.compile()\n",
    "\n",
    "# Invoke with initial data for the state\n",
    "initial_state = {\"cuisine\": \"Italian\", \"dish_type\": \"Pasta\"}\n",
    "chain.invoke(initial_state)\n"
   ]
  },
  {
   "cell_type": "markdown",
   "id": "d06a0596",
   "metadata": {},
   "source": [
    "Visualizing above Workflow"
   ]
  },
  {
   "cell_type": "code",
   "execution_count": 10,
   "id": "3b610d8a",
   "metadata": {},
   "outputs": [
    {
     "data": {
      "image/png": "[encoded data removed]",
      "text/plain": [
       "<IPython.core.display.Image object>"
      ]
     },
     "metadata": {},
     "output_type": "display_data"
    }
   ],
   "source": [
    "from IPython.display import Image, display\n",
    "display(Image(chain.get_graph().draw_mermaid_png()))"
   ]
  },
  {
   "cell_type": "markdown",
   "id": "5b54fcc2",
   "metadata": {},
   "source": [
    "### Complex Workflow Patterns\n",
    "In real world we chain multiple prompts together to create a more complex workflow interaction. For example, we might first ask for a list of restaurants, and then ask for more details about a specific restaurant from that list.\n"
   ]
  },
  {
   "cell_type": "markdown",
   "id": "839ee32a",
   "metadata": {},
   "source": [
    "#### Linear Workflow:\n",
    "\n",
    "```mermaid\n",
    "graph LR;\n",
    "    A[User Input] --> B[Restaurant Selection];\n",
    "    B --> C[Dish Selection];\n",
    "    C --> D[Get Dish ingredients Details];\n",
    "    D --> E[Check Allergens];\n",
    "```"
   ]
  },
  {
   "cell_type": "markdown",
   "id": "2d5e0eea",
   "metadata": {},
   "source": [
    "Create state which includes all necessary information for the workflow and used by each node function."
   ]
  },
  {
   "cell_type": "code",
   "execution_count": 11,
   "id": "6de132f4",
   "metadata": {},
   "outputs": [],
   "source": [
    "from typing_extensions import TypedDict\n",
    "\n",
    "class State(TypedDict):\n",
    "    cuisine: str\n",
    "    name: str\n",
    "    dish_type: str\n",
    "    dish_name: str\n",
    "    ingredients: list[str]\n",
    "    allergens: list[str]\n"
   ]
  },
  {
   "cell_type": "markdown",
   "id": "b077d594",
   "metadata": {},
   "source": [
    "Create Nodes for above chain"
   ]
  },
  {
   "cell_type": "code",
   "execution_count": 12,
   "id": "e3f24aa7",
   "metadata": {},
   "outputs": [],
   "source": [
    "def select_restaurant(state: State) -> str:\n",
    "    msg = llm.invoke(\n",
    "        f\"Give only name, no any other text or informations. Select a {state['cuisine']} restaurant with rating above 4.0 from given data: {data}\",\n",
    "        state\n",
    "    )\n",
    "    return {\"name\": msg.content}  # Simulated response for demonstration\n",
    "\n",
    "def select_dish(state: State) -> str:\n",
    "    msg = llm.invoke(\n",
    "        f\"Give dish name only, no any other text or informations. Select a dish from {state['name']} restaurant which is {state['dish_type']} type from given data: {data}\",\n",
    "        state\n",
    "    )\n",
    "    return {\"dish_name\": msg.content}  # Simulated response for demonstration\n",
    "\n",
    "def get_dish_ingredients(state: State) -> list[str]:\n",
    "    msg = llm.invoke(\n",
    "        f\"Give only ingredient names, no any other text or informations. Names should be comma separated. Get ingredients for {state['dish_name']} from {state['name']} restaurant: {data}\",\n",
    "        state\n",
    "    )\n",
    "    return {\"ingredients\": msg.content.split(\", \")}  # Simulated response for demonstration\n",
    "\n",
    "def check_allergens(state: State) -> list[str]:\n",
    "    msg = llm.invoke(\n",
    "        f\"Give only allergen names, no any other text or informations. Names should be comma separated. If no allergens, say 'No allergens found'. Check allergens for {state['dish_name']} from {state['name']} restaurant: {data}\",\n",
    "        state\n",
    "    )\n",
    "    return {\"allergens\": msg.content.split(\", \")}  # Simulated response for demonstration\n"
   ]
  },
  {
   "cell_type": "markdown",
   "id": "c17bca4c",
   "metadata": {},
   "source": [
    "Create Workflow by connecting nodes and invoke it with initial state"
   ]
  },
  {
   "cell_type": "code",
   "execution_count": 13,
   "id": "7c1ad6a7",
   "metadata": {},
   "outputs": [
    {
     "data": {
      "text/plain": [
       "{'cuisine': 'Italian',\n",
       " 'name': 'Pasta Palace',\n",
       " 'dish_type': 'Uses Butter',\n",
       " 'dish_name': 'Fettuccine Alfredo',\n",
       " 'ingredients': ['Fettuccine', 'Butter', 'Parmesan', 'Cream', 'Garlic'],\n",
       " 'allergens': ['Fettuccine', 'Butter', 'Parmesan', 'Cream', 'Garlic']}"
      ]
     },
     "execution_count": 13,
     "metadata": {},
     "output_type": "execute_result"
    }
   ],
   "source": [
    "from langgraph.graph import StateGraph, START, END\n",
    "\n",
    "workflow = StateGraph(State)\n",
    "workflow.add_node(\"select_restaurant\", select_restaurant)\n",
    "workflow.add_node(\"select_dish\", select_dish)\n",
    "workflow.add_node(\"get_dish_ingredients\", get_dish_ingredients)\n",
    "workflow.add_node(\"check_allergens\", check_allergens)\n",
    "\n",
    "workflow.add_edge(START, \"select_restaurant\")\n",
    "workflow.add_edge(\"select_restaurant\", \"select_dish\")\n",
    "workflow.add_edge(\"select_dish\", \"get_dish_ingredients\")\n",
    "workflow.add_edge(\"get_dish_ingredients\", \"check_allergens\")\n",
    "workflow.add_edge(\"check_allergens\", END)\n",
    "\n",
    "chain = workflow.compile()\n",
    "chain.invoke({\"cuisine\": \"Italian\", \"dish_type\": \"Uses Butter\"}) # This dict will be passed as initial state as mentioned in State class "
   ]
  },
  {
   "cell_type": "code",
   "execution_count": 14,
   "id": "f465e8ae",
   "metadata": {},
   "outputs": [
    {
     "data": {
      "text/plain": [
       "{'cuisine': 'Indian',\n",
       " 'name': 'Spice of India',\n",
       " 'dish_type': 'Chickpea Curry',\n",
       " 'dish_name': 'Chana Masala',\n",
       " 'ingredients': ['Chickpeas,Tomatoes,Onion,Cumin,Coriander'],\n",
       " 'allergens': ['No allergens found']}"
      ]
     },
     "execution_count": 14,
     "metadata": {},
     "output_type": "execute_result"
    }
   ],
   "source": [
    "chain.invoke({\"cuisine\": \"Indian\", \"dish_type\": \"Chickpea Curry\"}) # No allergens found"
   ]
  },
  {
   "cell_type": "markdown",
   "id": "2b57b758",
   "metadata": {},
   "source": [
    "#### Parallel Chain:\n",
    "\n",
    "```mermaid\n",
    "graph LR;\n",
    "    A[User Input] --> B[Dish Selection from Indian Restaurant];\n",
    "    A --> C[Dish Selection from Italian Restaurant];\n",
    "    B --> D[Get Dish ingredients Details];\n",
    "    C --> E[Get Dish ingredients Details];\n",
    "    D --> F[Dish without Allergens];\n",
    "    E --> F;\n",
    "```"
   ]
  },
  {
   "cell_type": "code",
   "execution_count": 15,
   "id": "60d65633",
   "metadata": {},
   "outputs": [
    {
     "data": {
      "text/plain": [
       "{'indian_dish_type': 'Chickpea',\n",
       " 'italian_dish_type': 'Pasta',\n",
       " 'selected_indian_dish': 'Chana Masala',\n",
       " 'selected_italian_dish': 'Spaghetti Carbonara',\n",
       " 'indian_dish_ingredients': ['Chickpeas',\n",
       "  'Tomatoes',\n",
       "  'Onion',\n",
       "  'Cumin',\n",
       "  'Coriander'],\n",
       " 'italian_dish_ingredients': ['Spaghetti',\n",
       "  'Eggs',\n",
       "  'Parmesan',\n",
       "  'Pancetta',\n",
       "  'Black Pepper'],\n",
       " 'dish_without_allergens': 'Chana Masala'}"
      ]
     },
     "execution_count": 15,
     "metadata": {},
     "output_type": "execute_result"
    }
   ],
   "source": [
    "# Using same data\n",
    "from langgraph.graph import StateGraph, START, END\n",
    "from typing_extensions import TypedDict\n",
    "\n",
    "# Create State\n",
    "class State(TypedDict):\n",
    "    indian_dish_type: str\n",
    "    italian_dish_type: str\n",
    "    selected_indian_dish: str\n",
    "    selected_italian_dish: str\n",
    "    indian_dish_ingredients: list[str]\n",
    "    italian_dish_ingredients: list[str]\n",
    "    dish_without_allergens: str\n",
    "\n",
    "\n",
    "# Defining Nodes\n",
    "def select_indian_dish(state: State) -> str:\n",
    "    msg = llm.invoke(f\"Give me dish name only, no any other text or information. Select a {state['indian_dish_type']} type from Indian cuisine. Use this data: {data}\")\n",
    "    return {\"selected_indian_dish\": msg.content.strip()}\n",
    "\n",
    "def select_italian_dish(state: State) -> str:\n",
    "    msg = llm.invoke(f\"Give me dish name only, no any other text or information. Select a {state['italian_dish_type']} type from Italian cuisine. Use this data: {data}\")\n",
    "    return {\"selected_italian_dish\": msg.content.strip()}\n",
    "\n",
    "def get_indian_dish_ingredients(state: State) -> list[str]:\n",
    "    msg = llm.invoke(f\"Give me a list of names of ingredient for the following dish: {state['selected_indian_dish']}. Names should be in a comma-separated format. Use this data: {data}\")\n",
    "    return {\"indian_dish_ingredients\": msg.content.strip().split(', ')}\n",
    "\n",
    "def get_italian_dish_ingredients(state: State) -> list[str]:\n",
    "    msg = llm.invoke(f\"Give me a list of names of ingredient for the following dish: {state['selected_italian_dish']}. Names should be in a comma-separated format. Use this data: {data}\")\n",
    "    return {\"italian_dish_ingredients\": msg.content.strip().split(', ')}\n",
    "\n",
    "def get_no_allergen_dish(state: State) -> str:\n",
    "    msg = llm.invoke(f\"Give me dish name only, no any other text or information. Select a dish without any allergens from the following ingredients: {state['indian_dish_ingredients'] + state['italian_dish_ingredients']}. Use this data: {data}\")\n",
    "    return {\"dish_without_allergens\": msg.content.strip()}\n",
    "\n",
    "# Create workflow\n",
    "workflow = StateGraph(State)\n",
    "\n",
    "# Create nodes\n",
    "workflow.add_node(\"select_indian_dish\", select_indian_dish)\n",
    "workflow.add_node(\"select_italian_dish\", select_italian_dish)\n",
    "workflow.add_node(\"get_indian_dish_ingredients\", get_indian_dish_ingredients)\n",
    "workflow.add_node(\"get_italian_dish_ingredients\", get_italian_dish_ingredients)\n",
    "workflow.add_node(\"get_no_allergen_dish\", get_no_allergen_dish)\n",
    "\n",
    "# Create edges\n",
    "workflow.add_edge(START, \"select_indian_dish\")\n",
    "workflow.add_edge(START, \"select_italian_dish\")\n",
    "workflow.add_edge(\"select_indian_dish\", \"get_indian_dish_ingredients\")\n",
    "workflow.add_edge(\"select_italian_dish\", \"get_italian_dish_ingredients\")\n",
    "workflow.add_edge(\"get_indian_dish_ingredients\", \"get_no_allergen_dish\")\n",
    "workflow.add_edge(\"get_italian_dish_ingredients\", \"get_no_allergen_dish\")\n",
    "workflow.add_edge(\"get_no_allergen_dish\", END)\n",
    "\n",
    "# Compile Workflow\n",
    "chain = workflow.compile()\n",
    "chain.invoke({\"indian_dish_type\": \"Chickpea\", \"italian_dish_type\": \"Pasta\"})  # Initial state is empty as we are not passing any initial data\n"
   ]
  },
  {
   "cell_type": "markdown",
   "id": "6e2bf35a",
   "metadata": {},
   "source": [
    "#### Router\n",
    "Router workflow is useful for managing and directing user requests to the appropriate handlers or services within an application. It acts as a traffic controller, ensuring that incoming requests are processed efficiently and routed to the correct destination based on predefined rules and patterns.\n",
    "\n",
    "```mermaid\n",
    "graph LR\n",
    "    A[User Input] --> B{Router}\n",
    "    B -->|Indian| C[Dish Name in Hindi Language]\n",
    "    B -->|Italian| D[Dish Name in Italian Language]\n",
    "    C --> E[Output]\n",
    "    D --> E\n",
    "```"
   ]
  },
  {
   "cell_type": "code",
   "execution_count": 16,
   "id": "b525a32d",
   "metadata": {},
   "outputs": [
    {
     "data": {
      "text/plain": [
       "{'cuisine': 'I want to eat Italian food',\n",
       " 'decision': 'Italian',\n",
       " 'output': \"*Buongiorno! Benvenuti alla Pasta Palace!*\\n\\n*Sono il vostro cameriere per oggi. Avete già dato un'occhiata al nostro menu? Cosa posso portarvi da bere? Un bicchiere di vino, magari? Abbiamo un ottimo Chianti Classico che si abbina perfettamente con i nostri piatti.*\\n\\n*Se avete domande sui nostri piatti, non esitate a chiedere. Sono qui per aiutarvi a scegliere la migliore esperienza culinaria italiana.*\"}"
      ]
     },
     "execution_count": 16,
     "metadata": {},
     "output_type": "execute_result"
    }
   ],
   "source": [
    "from langgraph.graph import StateGraph, START, END\n",
    "from pydantic import BaseModel\n",
    "from typing_extensions import Literal, TypedDict\n",
    "\n",
    "# We need structured output, so used pydantic\n",
    "class RouterState(BaseModel):\n",
    "    step: Literal[\"Indian\", \"Italian\"]\n",
    "\n",
    "router_llm = llm.with_structured_output(RouterState)\n",
    "\n",
    "\n",
    "# Create State\n",
    "class State(TypedDict):\n",
    "    cuisine: str\n",
    "    decision: str\n",
    "    output: str\n",
    "\n",
    "\n",
    "# Create Nodes\n",
    "def indian_restaurant(state: State) -> State:\n",
    "    result = llm.invoke(f\"Act as a Indian restaurant's server and respond everything in Hindi Language. Choose any random restaurant from : {data}\")\n",
    "    return {\"output\": result.content.strip()}\n",
    "\n",
    "def italian_restaurant(state: State) -> State:\n",
    "    result = llm.invoke(f\"Act as a Italian restaurant's server and respond everything in Italian Language. Choose any random restaurant from : {data}\")\n",
    "    return {\"output\": result.content.strip()}\n",
    "\n",
    "def router(state: State) -> State:\n",
    "    decision = router_llm.invoke(f\"Select a cuisine type based on the user's request: {state['cuisine']}\")\n",
    "    return {\"decision\": decision.step}\n",
    "\n",
    "# Create decision-making Node\n",
    "def decision_making(state: State) -> State:\n",
    "    if state[\"decision\"] == \"Indian\":\n",
    "        return \"Go to Indian restaurant\"\n",
    "    elif state[\"decision\"] == \"Italian\":\n",
    "        return \"Go to Italian restaurant\"\n",
    "\n",
    "# Create Workflow\n",
    "workflow = StateGraph(State)\n",
    "\n",
    "workflow.add_node(\"router\", router)\n",
    "workflow.add_node(\"indian_restaurant\", indian_restaurant)\n",
    "workflow.add_node(\"italian_restaurant\", italian_restaurant)\n",
    "\n",
    "workflow.add_edge(START, \"router\")\n",
    "workflow.add_conditional_edges(\n",
    "    \"router\",\n",
    "    decision_making,\n",
    "    {\n",
    "        \"Go to Indian restaurant\": \"indian_restaurant\",\n",
    "        \"Go to Italian restaurant\": \"italian_restaurant\"\n",
    "    }\n",
    ")\n",
    "workflow.add_edge(\"indian_restaurant\", END)\n",
    "workflow.add_edge(\"italian_restaurant\", END)\n",
    "\n",
    "chain = workflow.compile()\n",
    "chain.invoke({\"cuisine\": \"I want to eat Italian food\"})  # Initial state"
   ]
  },
  {
   "cell_type": "code",
   "execution_count": 18,
   "id": "4e629c03",
   "metadata": {},
   "outputs": [
    {
     "data": {
      "text/plain": [
       "{'cuisine': \"Let's go for Indian food\",\n",
       " 'decision': 'Indian',\n",
       " 'output': 'नमस्ते! \"Spice of India\" में आपका स्वागत है। मैं आपकी क्या सेवा कर सकता हूँ? क्या आप मेन्यू देखना चाहेंगे? हमारे पास कुछ बहुत ही स्वादिष्ट व्यंजन हैं।'}"
      ]
     },
     "execution_count": 18,
     "metadata": {},
     "output_type": "execute_result"
    }
   ],
   "source": [
    "chain.invoke({\"cuisine\": \"Let's go for Indian food\"})  # Initial state"
   ]
  },
  {
   "cell_type": "code",
   "execution_count": 19,
   "id": "4975784c",
   "metadata": {},
   "outputs": [
    {
     "data": {
      "image/png": "[encoded data removed]",
      "text/plain": [
       "<IPython.core.display.Image object>"
      ]
     },
     "metadata": {},
     "output_type": "display_data"
    }
   ],
   "source": [
    "from IPython.display import Image, display\n",
    "display(Image(chain.get_graph().draw_mermaid_png()))"
   ]
  },
  {
   "cell_type": "markdown",
   "id": "c496e5c8",
   "metadata": {},
   "source": [
    "#### Orchestrator-Worker\n",
    "Orchestrator and Worker workflow is useful when you want to dynamically assign tasks to different workers based on the current state of the workflow. The orchestrator manages the overall process, while workers handle specific tasks."
   ]
  },
  {
   "cell_type": "code",
   "execution_count": 20,
   "id": "478aa212",
   "metadata": {},
   "outputs": [
    {
     "data": {
      "text/plain": [
       "{'cuisine': 'Italian',\n",
       " 'dish_name': 'Spaghetti Carbonara',\n",
       " 'ingredients': 'Spaghetti, Eggs, Parmesan, Pancetta, Black Pepper',\n",
       " 'allergens': 'Eggs, Dairy',\n",
       " 'completed_sections': [\"Originating in Rome, Spaghetti Carbonara's creamy, peppery sauce likely emerged post-WWII, using readily available ingredients like eggs, cheese, and cured pork. It's a beloved Italian comfort food.\",\n",
       "  'Spaghetti, eggs, Parmesan, pancetta, and black pepper create a classic Carbonara. Pancetta, cured pork belly, adds a salty, savory depth.',\n",
       "  'Eggs and dairy are common allergens. Eggs are found in baked goods, pasta, and mayonnaise. Dairy is in milk, cheese, yogurt, and butter.'],\n",
       " 'final_report': \"Originating in Rome, Spaghetti Carbonara's creamy, peppery sauce likely emerged post-WWII, using readily available ingredients like eggs, cheese, and cured pork. It's a beloved Italian comfort food.\\n\\n---\\n\\nSpaghetti, eggs, Parmesan, pancetta, and black pepper create a classic Carbonara. Pancetta, cured pork belly, adds a salty, savory depth.\\n\\n---\\n\\nEggs and dairy are common allergens. Eggs are found in baked goods, pasta, and mayonnaise. Dairy is in milk, cheese, yogurt, and butter.\"}"
      ]
     },
     "execution_count": 20,
     "metadata": {},
     "output_type": "execute_result"
    }
   ],
   "source": [
    "from pydantic import BaseModel\n",
    "from typing_extensions import TypedDict\n",
    "from typing import Annotated\n",
    "from langgraph.graph import StateGraph, START, END\n",
    "from langchain_core.messages import SystemMessage, HumanMessage\n",
    "import operator\n",
    "from langgraph.types import Send\n",
    "\n",
    "# Define the structured output for model\n",
    "class DishDetails(BaseModel):\n",
    "    dish_name: Annotated[str, Field(description=\"The name of the dish\")]\n",
    "    ingredient_details: Annotated[str, Field(description=\"Details about the ingredients\")]\n",
    "    allergen_details: Annotated[str, Field(description=\"Details about the allergens\")]\n",
    "\n",
    "llm_with_structured_output = llm.with_structured_output(DishDetails)\n",
    "\n",
    "# Main state\n",
    "class State(TypedDict):\n",
    "    cuisine: str\n",
    "    dish_name: str\n",
    "    ingredients: str\n",
    "    allergens: str\n",
    "    completed_sections: Annotated[list, operator.add] # Worker will output as a list[str] and operator.add will add them\n",
    "    final_report: str\n",
    "\n",
    "\n",
    "def orchestrator(state: State):\n",
    "    \"\"\"\n",
    "    Select a dish from the given state and return its details which are ingredients and allergens.\n",
    "    \"\"\"\n",
    "    details = llm_with_structured_output.invoke(f\"from mentioned data, give me any dish name from {state['cuisine']} cuisine from any random but relevant restaurant. Also give me the ingredients and allergens for the dish No any other text. data: {data}\")\n",
    "    return {\"dish_name\": details.dish_name, \"ingredients\": details.ingredient_details, \"allergens\": details.allergen_details}\n",
    "\n",
    "def dish_history(state: State):\n",
    "    \"\"\"\n",
    "    Retrieve the history of a specific dish based on the sub-state information.\n",
    "    \"\"\"\n",
    "    resp = llm.invoke([\n",
    "        SystemMessage(content=f\"Write 30 words Summary of the dish history for user provided dish details as below. Just describe the origin of the dish and its cultural significance\"),\n",
    "        HumanMessage(content=f\"Dish Details: {state['dish_name']}\")\n",
    "    ])\n",
    "    # Implement logic to retrieve dish history based on dish_details and content\n",
    "    return {\"completed_sections\": [resp.content]}\n",
    "\n",
    "def ingredient_details(state: State):\n",
    "    \"\"\"\n",
    "    Describe the ingredient details \n",
    "    \"\"\"\n",
    "    resp = llm.invoke([\n",
    "        SystemMessage(content=f\"Write 30 words Summary of the ingredient details for user provided ingredient as below. Summary only includes ingredient name, where it can be found, and any interesting facts.\"),\n",
    "        HumanMessage(content=f\"Ingredient Details: {state['ingredient_details']}\")\n",
    "    ])\n",
    "    # Implement logic to retrieve ingredient history based on ingredient_details and content\n",
    "    return {\"completed_sections\": [resp.content]}\n",
    "\n",
    "def allergen_details(state: State):\n",
    "    \"\"\"\n",
    "    Describe the allergen details\n",
    "    \"\"\"\n",
    "    resp = llm.invoke([\n",
    "        SystemMessage(content=f\"Write 30 words Summary of the allergen details for user provided allergen as below. Summary only includes allergen name, where it can be found, and any interesting facts.\"),\n",
    "        HumanMessage(content=f\"Allergen Details: {state['allergen_details']}\")\n",
    "    ])\n",
    "    # Implement logic to retrieve allergen history based on allergen_details and content\n",
    "    return {\"completed_sections\": [resp.content]}\n",
    "\n",
    "def final_report_generator(state: State):\n",
    "    completed_sections = state[\"completed_sections\"]\n",
    "    return {\"final_report\": \"\\n\\n---\\n\\n\".join(completed_sections)}\n",
    "\n",
    "def assign_data_to_worker(state: State):\n",
    "    \"\"\"\n",
    "    Assign dish details to the relevant worker.\n",
    "    \"\"\"\n",
    "    data = {\"dish_name\": state[\"dish_name\"], \"ingredient_details\": state[\"ingredients\"], \"allergen_details\": state[\"allergens\"]}\n",
    "    return [Send(\"dish_history\", data), Send(\"ingredient_details\", data), Send(\"allergen_details\", data)]\n",
    "\n",
    "\n",
    "# Create workflow\n",
    "workflow = StateGraph(State)\n",
    "\n",
    "workflow.add_node(\"orchestrator\", orchestrator)\n",
    "workflow.add_node(\"dish_history\", dish_history)\n",
    "workflow.add_node(\"ingredient_details\", ingredient_details)\n",
    "workflow.add_node(\"allergen_details\", allergen_details)\n",
    "workflow.add_node(\"final_report_generator\", final_report_generator)\n",
    "\n",
    "workflow.add_edge(START, \"orchestrator\")\n",
    "workflow.add_conditional_edges(\n",
    "    \"orchestrator\", assign_data_to_worker, [\"dish_history\", \"ingredient_details\", \"allergen_details\"]\n",
    ")\n",
    "workflow.add_edge(\"dish_history\", \"final_report_generator\")\n",
    "workflow.add_edge(\"ingredient_details\", \"final_report_generator\")\n",
    "workflow.add_edge(\"allergen_details\", \"final_report_generator\")\n",
    "workflow.add_edge(\"final_report_generator\", END)\n",
    "\n",
    "chain = workflow.compile()\n",
    "\n",
    "\n",
    "chain.invoke({\"cuisine\": \"Italian\"})  # Initial state\n"
   ]
  },
  {
   "cell_type": "markdown",
   "id": "9653a719",
   "metadata": {},
   "source": [
    "#### Evaluator-Optimiser\n",
    "The Evaluator-Optimiser workflow is useful for assessing the performance of different components within the system and making adjustments to improve overall efficiency. They provide feedback on the effectiveness of various strategies and help identify areas for improvement.\n"
   ]
  },
  {
   "cell_type": "code",
   "execution_count": 21,
   "id": "acb2d2a3",
   "metadata": {},
   "outputs": [
    {
     "data": {
      "text/plain": [
       "{'cuisine': 'Italian',\n",
       " 'dish_name': 'Tomato Pasta',\n",
       " 'ingredients': ['gluten-free pasta', 'tomato sauce'],\n",
       " 'grade': 'non-allergenic',\n",
       " 'feedback': 'The dish is free from common allergens.',\n",
       " 'history_of_selection': [{'dish_name': 'Tomato Pasta',\n",
       "   'ingredients': ['gluten-free pasta', 'tomato sauce'],\n",
       "   'feedback': 'This dish contains eggs and dairy, which are common allergens. It cannot be made entirely allergen-free. An alternative could be a simple tomato-based pasta dish with gluten-free pasta and no cheese.'}]}"
      ]
     },
     "execution_count": 21,
     "metadata": {},
     "output_type": "execute_result"
    }
   ],
   "source": [
    "from pydantic import BaseModel, Field\n",
    "from typing_extensions import Literal, TypedDict\n",
    "from typing import Annotated\n",
    "import operator\n",
    "\n",
    "# Create LLMs with structured output\n",
    "class DishDetails(BaseModel):\n",
    "    name: str = Field(description=\"Name of the dish\")\n",
    "    ingredients: list[str] = Field(description=\"List of ingredients in the dish\")\n",
    "    allergens: list[str] = Field(description=\"List of allergens present in the dish\")\n",
    "\n",
    "llm_with_structured_output_1 = llm.with_structured_output(DishDetails)\n",
    "\n",
    "class Feedback(BaseModel):\n",
    "    grade: Literal[\"allergetic\", \"non-allergenic\", \"neutral\"] = Field(description=\"Feedback grade for the dish based on allergen content\")\n",
    "    feedback: str = Field(description=\"Feedback if the dish can be made allergen-free. If not then suggest another dish.\")\n",
    "\n",
    "llm_with_structured_output_2 = llm.with_structured_output(Feedback)\n",
    "\n",
    "from langgraph.graph import StateGraph, START, END\n",
    "\n",
    "\n",
    "# Define main state\n",
    "class State(TypedDict):\n",
    "    cuisine: str\n",
    "    dish_name: str\n",
    "    ingredients: str\n",
    "    grade: str\n",
    "    feedback: Feedback\n",
    "    history_of_selection: Annotated[list[dict[str, str]], operator.add]  # This will store history of selected dishes\n",
    "\n",
    "# Create Nodes\n",
    "def select_dish(state: State) -> str:\n",
    "    # If feedback is present and grade is allergetic, consider feedback in dish selection\n",
    "    if state.get(\"feedback\", None) and state[\"grade\"] == \"allergetic\":\n",
    "        resp = llm_with_structured_output_1.invoke(f\"Select a dish from {state['cuisine']} cuisine. Also take {state['feedback']} feedback in account. Data: {data}.\")\n",
    "        state[\"history_of_selection\"].append({\"dish_name\": resp.name, \"ingredients\": resp.ingredients, \"feedback\": state[\"feedback\"]})\n",
    "    else:\n",
    "        # If no feedback is present, select dish without considering feedback\n",
    "        resp = llm_with_structured_output_1.invoke(f\"Select a dish from {state['cuisine']} cuisine from given data: {data}\")\n",
    "    return {\"dish_name\": resp.name, \"ingredients\": resp.ingredients}\n",
    "\n",
    "def evaluate_dish(state: State) -> str:\n",
    "    # If feedback is present, include it in the evaluation\n",
    "    resp = llm_with_structured_output_2.invoke(f\"Evaluate the dish based on its ingredients: {state['ingredients']}. If the dish contains allergens, classify it as 'allergetic'. If it is free from common allergens, classify it as 'non-allergenic'. If unsure, classify it as 'neutral'. Provide feedback on whether the dish can be made allergen-free. If not, suggest an alternative dish.\")\n",
    "    return {\"grade\": resp.grade, \"feedback\": resp.feedback}\n",
    "\n",
    "# Decision on allergenic dish\n",
    "def route_allergenic_dish(state: State) -> str:\n",
    "    if state[\"grade\"] == \"allergetic\":\n",
    "        return \"Rejected + Feedback\"\n",
    "    return \"Accepted\"\n",
    "\n",
    "workflow = StateGraph(State)\n",
    "workflow.add_node(\"select_dish\", select_dish)\n",
    "workflow.add_node(\"evaluate_dish\", evaluate_dish)\n",
    "\n",
    "workflow.add_edge(START, \"select_dish\")\n",
    "workflow.add_edge(\"select_dish\", \"evaluate_dish\")\n",
    "workflow.add_conditional_edges(\"evaluate_dish\", route_allergenic_dish, {\n",
    "    \"Rejected + Feedback\": \"select_dish\",\n",
    "    \"Accepted\": END\n",
    "})\n",
    "\n",
    "chain = workflow.compile()\n",
    "chain.invoke({\"cuisine\": \"Italian\"})  # Initial state"
   ]
  }
 ],
 "metadata": {
  "kernelspec": {
   "display_name": ".venv",
   "language": "python",
   "name": "python3"
  },
  "language_info": {
   "codemirror_mode": {
    "name": "ipython",
    "version": 3
   },
   "file_extension": ".py",
   "mimetype": "text/x-python",
   "name": "python",
   "nbconvert_exporter": "python",
   "pygments_lexer": "ipython3",
   "version": "3.13.5"
  }
 },
 "nbformat": 4,
 "nbformat_minor": 5
}
