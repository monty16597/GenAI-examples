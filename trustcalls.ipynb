{
 "cells": [
  {
   "cell_type": "markdown",
   "id": "7bc7cc51",
   "metadata": {},
   "source": [
    "# Using Structured Response\n",
    "Integrating `TypedDict` or `Pydantic` schema into LLM will allow us to get final response in structured format, making it easier to work with the data."
   ]
  },
  {
   "cell_type": "code",
   "execution_count": null,
   "id": "ab5776f2",
   "metadata": {},
   "outputs": [],
   "source": [
    "from langchain_google_genai import ChatGoogleGenerativeAI\n",
    "import os\n",
    "\n",
    "if \"GOOGLE_API_KEY\" not in os.environ:\n",
    "    raise ValueError(\"Missing GOOGLE_API_KEY environment variable\")\n",
    "# Create the LLM instance\n",
    "llm = ChatGoogleGenerativeAI(\n",
    "    model=\"gemini-2.5-flash-lite\",\n",
    "    temperature=0.1,\n",
    "    max_output_tokens=1024,\n",
    ")"
   ]
  },
  {
   "cell_type": "code",
   "execution_count": 3,
   "id": "380dcc73",
   "metadata": {},
   "outputs": [
    {
     "data": {
      "text/plain": [
       "AIMessage(content=\"Mohit: Nolan's movies, Volleyball\", additional_kwargs={}, response_metadata={'prompt_feedback': {'block_reason': 0, 'safety_ratings': []}, 'finish_reason': 'STOP', 'model_name': 'gemini-2.5-flash-lite', 'safety_ratings': []}, id='run--db795092-6674-4e7d-99eb-14bba4c413a6-0', usage_metadata={'input_tokens': 49, 'output_tokens': 9, 'total_tokens': 58, 'input_token_details': {'cache_read': 0}})"
      ]
     },
     "execution_count": 3,
     "metadata": {},
     "output_type": "execute_result"
    }
   ],
   "source": [
    "# Without Structured Response\n",
    "from langchain_core.messages import HumanMessage, SystemMessage\n",
    "llm.invoke([\n",
    "    SystemMessage(content=\"You are a helpful assistant that provides information about users and their likes. Format it like <UserName>: <Like 1>, <Like 2>\"),\n",
    "    HumanMessage(content=\"I am Mohit and I like Nolan's movies. Also love to play volleyball.\")\n",
    "])"
   ]
  },
  {
   "cell_type": "markdown",
   "id": "261b61f9",
   "metadata": {},
   "source": [
    "## TypedDict\n",
    "Convert each class objects into a Python Dictionary"
   ]
  },
  {
   "cell_type": "code",
   "execution_count": null,
   "id": "127dc2e6",
   "metadata": {},
   "outputs": [
    {
     "data": {
      "text/plain": [
       "{'likes': [\"Nolan's movies\", 'volleyball'], 'user': 'Mohit'}"
      ]
     },
     "execution_count": 4,
     "metadata": {},
     "output_type": "execute_result"
    }
   ],
   "source": [
    "from typing_extensions import TypedDict, Annotated\n",
    "\n",
    "class UserLikes(TypedDict):\n",
    "    user: Annotated[str, \"Name of the user\"]\n",
    "    likes: Annotated[list[str], \"List of things the user likes\"]"
   ]
  },
  {
   "cell_type": "code",
   "execution_count": null,
   "id": "c6b3acfc",
   "metadata": {},
   "outputs": [],
   "source": [
    "llm_with_structured_response = llm.with_structured_output(UserLikes)\n",
    "\n",
    "llm_with_structured_response.invoke([\n",
    "    SystemMessage(content=\"You are a helpful assistant that provides information about users and their likes. Format it like <UserName>: <Like 1>, <Like 2>\"),\n",
    "    HumanMessage(content=\"I am Mohit and I like Nolan's movies. Also love to play volleyball.\")\n",
    "])"
   ]
  },
  {
   "cell_type": "markdown",
   "id": "618dd17a",
   "metadata": {},
   "source": [
    "# Pydantic\n",
    "More sophisticated data typing class."
   ]
  },
  {
   "cell_type": "code",
   "execution_count": 5,
   "id": "4598b1dc",
   "metadata": {},
   "outputs": [],
   "source": [
    "from pydantic import BaseModel, Field\n",
    "\n",
    "class UserLikesModel(BaseModel):\n",
    "    user: str = Field(..., description=\"Name of the user\")\n",
    "    likes: list[str] = Field(..., description=\"List of things the user likes\")"
   ]
  },
  {
   "cell_type": "code",
   "execution_count": 6,
   "id": "fa99f4b0",
   "metadata": {},
   "outputs": [
    {
     "data": {
      "text/plain": [
       "UserLikesModel(user='Mohit', likes=[\"Nolan's movies\", 'volleyball'])"
      ]
     },
     "execution_count": 6,
     "metadata": {},
     "output_type": "execute_result"
    }
   ],
   "source": [
    "llm_with_structured_response = llm.with_structured_output(UserLikesModel)\n",
    "\n",
    "llm_with_structured_response.invoke([\n",
    "    SystemMessage(content=\"You are a helpful assistant that provides information about users and their likes. Format it like <UserName>: <Like 1>, <Like 2>\"),\n",
    "    HumanMessage(content=\"I am Mohit and I like Nolan's movies. Also love to play volleyball.\")\n",
    "])"
   ]
  },
  {
   "cell_type": "markdown",
   "id": "8b0bdb38",
   "metadata": {},
   "source": [
    "# Trustcalls\n",
    "![trustcalls](https://raw.githubusercontent.com/hinthornw/trustcall/8c7312b591542cf9349ce00d2811e890ea6eef91/_static/cover.png)"
   ]
  },
  {
   "cell_type": "code",
   "execution_count": 27,
   "id": "0c57cd5b",
   "metadata": {},
   "outputs": [
    {
     "data": {
      "text/plain": [
       "{'messages': [AIMessage(content='', additional_kwargs={'function_call': {'name': 'UserLikesModel', 'arguments': '{\"duckducksearches\": [\"latest news on Nolan\\'s movies\", \"latest news on volleyball\"], \"user\": \"Mohit\", \"likes\": [\"Nolan\\'s movies\", \"volleyball\"]}'}}, response_metadata={'prompt_feedback': {'block_reason': 0, 'safety_ratings': []}, 'finish_reason': 'STOP', 'model_name': 'gemini-2.5-flash-lite', 'safety_ratings': []}, id='run--466a2f85-c37a-44ea-8544-e4ece2a6c8c8-0', tool_calls=[{'name': 'UserLikesModel', 'args': {'duckducksearches': [\"latest news on Nolan's movies\", 'latest news on volleyball'], 'user': 'Mohit', 'likes': [\"Nolan's movies\", 'volleyball']}, 'id': '92f3cddd-c7cd-45f3-a063-863c8f5c545d', 'type': 'tool_call'}], usage_metadata={'input_tokens': 144, 'output_tokens': 49, 'total_tokens': 193, 'input_token_details': {'cache_read': 0}})],\n",
       " 'responses': [UserLikesModel(user='Mohit', likes=[\"Nolan's movies\", 'volleyball'], duckducksearches=[\"latest news on Nolan's movies\", 'latest news on volleyball'])],\n",
       " 'response_metadata': [{'id': '92f3cddd-c7cd-45f3-a063-863c8f5c545d'}],\n",
       " 'attempts': 1}"
      ]
     },
     "execution_count": 27,
     "metadata": {},
     "output_type": "execute_result"
    }
   ],
   "source": [
    "from trustcall import create_extractor\n",
    "from pydantic import BaseModel, Field\n",
    "\n",
    "class UserLikesModel(BaseModel):\n",
    "    user: str = Field(..., description=\"Name of the user\")\n",
    "    likes: list[str] = Field(..., description=\"List of things the user likes\")\n",
    "    duckducksearches: list[str] = Field([], description=\"List of latest news for each likes by DuckDuckGo Search\")\n",
    "\n",
    "extractor = create_extractor(llm=llm, tools=[UserLikesModel], tool_choice=\"any\")\n",
    "resp = extractor.invoke([\n",
    "    SystemMessage(content=\"You are a helpful assistant that provides information about users and their likes. Format it like <UserName>: <Like 1>, <Like 2>\"),\n",
    "    HumanMessage(content=\"I am Mohit and I like Nolan's movies. Also love to play volleyball. Get me latest news on my interests\")\n",
    "])\n",
    "resp\n"
   ]
  },
  {
   "cell_type": "code",
   "execution_count": 28,
   "id": "00ddcb53",
   "metadata": {},
   "outputs": [
    {
     "name": "stdout",
     "output_type": "stream",
     "text": [
      "==================================\u001b[1m Ai Message \u001b[0m==================================\n",
      "Tool Calls:\n",
      "  UserLikesModel (92f3cddd-c7cd-45f3-a063-863c8f5c545d)\n",
      " Call ID: 92f3cddd-c7cd-45f3-a063-863c8f5c545d\n",
      "  Args:\n",
      "    duckducksearches: [\"latest news on Nolan's movies\", 'latest news on volleyball']\n",
      "    user: Mohit\n",
      "    likes: [\"Nolan's movies\", 'volleyball']\n"
     ]
    }
   ],
   "source": [
    "resp[\"messages\"][-1].pretty_print()"
   ]
  },
  {
   "cell_type": "code",
   "execution_count": 29,
   "id": "8a743b8e",
   "metadata": {},
   "outputs": [
    {
     "data": {
      "text/plain": [
       "UserLikesModel(user='Mohit', likes=[\"Nolan's movies\", 'volleyball'], duckducksearches=[\"latest news on Nolan's movies\", 'latest news on volleyball'])"
      ]
     },
     "execution_count": 29,
     "metadata": {},
     "output_type": "execute_result"
    }
   ],
   "source": [
    "resp[\"responses\"][-1]"
   ]
  }
 ],
 "metadata": {
  "kernelspec": {
   "display_name": ".venv",
   "language": "python",
   "name": "python3"
  },
  "language_info": {
   "codemirror_mode": {
    "name": "ipython",
    "version": 3
   },
   "file_extension": ".py",
   "mimetype": "text/x-python",
   "name": "python",
   "nbconvert_exporter": "python",
   "pygments_lexer": "ipython3",
   "version": "3.13.5"
  }
 },
 "nbformat": 4,
 "nbformat_minor": 5
}
